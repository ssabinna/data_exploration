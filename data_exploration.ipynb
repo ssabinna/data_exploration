{
 "cells": [
  {
   "cell_type": "markdown",
   "metadata": {},
   "source": [
    "# Exploratory analysis"
   ]
  },
  {
   "cell_type": "markdown",
   "metadata": {},
   "source": [
    "#### Libraries"
   ]
  },
  {
   "cell_type": "code",
   "execution_count": 1,
   "metadata": {},
   "outputs": [],
   "source": [
    "import numpy as np\n",
    "import pandas as pd\n",
    "import matplotlib.pyplot as plt\n",
    "%matplotlib inline"
   ]
  },
  {
   "cell_type": "code",
   "execution_count": 2,
   "metadata": {},
   "outputs": [],
   "source": [
    "df = pd.read_excel(\"data_exploration.xlsx\")"
   ]
  },
  {
   "cell_type": "code",
   "execution_count": 3,
   "metadata": {},
   "outputs": [
    {
     "data": {
      "text/html": [
       "<div>\n",
       "<style scoped>\n",
       "    .dataframe tbody tr th:only-of-type {\n",
       "        vertical-align: middle;\n",
       "    }\n",
       "\n",
       "    .dataframe tbody tr th {\n",
       "        vertical-align: top;\n",
       "    }\n",
       "\n",
       "    .dataframe thead th {\n",
       "        text-align: right;\n",
       "    }\n",
       "</style>\n",
       "<table border=\"1\" class=\"dataframe\">\n",
       "  <thead>\n",
       "    <tr style=\"text-align: right;\">\n",
       "      <th></th>\n",
       "      <th>user_id</th>\n",
       "      <th>user_created_at</th>\n",
       "      <th>app_id</th>\n",
       "      <th>app_type</th>\n",
       "      <th>app_created_at</th>\n",
       "      <th>subscription_id</th>\n",
       "      <th>subscription_created_at</th>\n",
       "      <th>subscription_downgraded_at</th>\n",
       "    </tr>\n",
       "  </thead>\n",
       "  <tbody>\n",
       "    <tr>\n",
       "      <th>0</th>\n",
       "      <td>5390480</td>\n",
       "      <td>2021-03-02 16:19:36.699</td>\n",
       "      <td>27926869</td>\n",
       "      <td>fileEmbed</td>\n",
       "      <td>2021-03-02 16:20:24.513</td>\n",
       "      <td>NaN</td>\n",
       "      <td>NaT</td>\n",
       "      <td>NaT</td>\n",
       "    </tr>\n",
       "    <tr>\n",
       "      <th>1</th>\n",
       "      <td>5390549</td>\n",
       "      <td>2021-03-02 16:49:31.439</td>\n",
       "      <td>27927190</td>\n",
       "      <td>musicPlayer</td>\n",
       "      <td>2021-03-02 16:49:33.719</td>\n",
       "      <td>NaN</td>\n",
       "      <td>NaT</td>\n",
       "      <td>NaT</td>\n",
       "    </tr>\n",
       "    <tr>\n",
       "      <th>2</th>\n",
       "      <td>5390446</td>\n",
       "      <td>2021-03-02 15:59:53.346</td>\n",
       "      <td>27926836</td>\n",
       "      <td>fileDownloadForm</td>\n",
       "      <td>2021-03-02 16:18:55.969</td>\n",
       "      <td>NaN</td>\n",
       "      <td>NaT</td>\n",
       "      <td>NaT</td>\n",
       "    </tr>\n",
       "    <tr>\n",
       "      <th>3</th>\n",
       "      <td>5394851</td>\n",
       "      <td>2021-03-04 20:44:32.155</td>\n",
       "      <td>27961262</td>\n",
       "      <td>hitCounter</td>\n",
       "      <td>2021-03-04 20:44:19.427</td>\n",
       "      <td>NaN</td>\n",
       "      <td>NaT</td>\n",
       "      <td>NaT</td>\n",
       "    </tr>\n",
       "    <tr>\n",
       "      <th>4</th>\n",
       "      <td>5392474</td>\n",
       "      <td>2021-03-03 16:51:28.862</td>\n",
       "      <td>27939220</td>\n",
       "      <td>comments</td>\n",
       "      <td>2021-03-03 16:52:15.329</td>\n",
       "      <td>NaN</td>\n",
       "      <td>NaT</td>\n",
       "      <td>NaT</td>\n",
       "    </tr>\n",
       "  </tbody>\n",
       "</table>\n",
       "</div>"
      ],
      "text/plain": [
       "   user_id         user_created_at    app_id          app_type  \\\n",
       "0  5390480 2021-03-02 16:19:36.699  27926869         fileEmbed   \n",
       "1  5390549 2021-03-02 16:49:31.439  27927190       musicPlayer   \n",
       "2  5390446 2021-03-02 15:59:53.346  27926836  fileDownloadForm   \n",
       "3  5394851 2021-03-04 20:44:32.155  27961262        hitCounter   \n",
       "4  5392474 2021-03-03 16:51:28.862  27939220          comments   \n",
       "\n",
       "           app_created_at  subscription_id subscription_created_at  \\\n",
       "0 2021-03-02 16:20:24.513              NaN                     NaT   \n",
       "1 2021-03-02 16:49:33.719              NaN                     NaT   \n",
       "2 2021-03-02 16:18:55.969              NaN                     NaT   \n",
       "3 2021-03-04 20:44:19.427              NaN                     NaT   \n",
       "4 2021-03-03 16:52:15.329              NaN                     NaT   \n",
       "\n",
       "  subscription_downgraded_at  \n",
       "0                        NaT  \n",
       "1                        NaT  \n",
       "2                        NaT  \n",
       "3                        NaT  \n",
       "4                        NaT  "
      ]
     },
     "execution_count": 3,
     "metadata": {},
     "output_type": "execute_result"
    }
   ],
   "source": [
    "# first five rows\n",
    "df.head()"
   ]
  },
  {
   "cell_type": "code",
   "execution_count": 4,
   "metadata": {},
   "outputs": [
    {
     "data": {
      "text/html": [
       "<div>\n",
       "<style scoped>\n",
       "    .dataframe tbody tr th:only-of-type {\n",
       "        vertical-align: middle;\n",
       "    }\n",
       "\n",
       "    .dataframe tbody tr th {\n",
       "        vertical-align: top;\n",
       "    }\n",
       "\n",
       "    .dataframe thead th {\n",
       "        text-align: right;\n",
       "    }\n",
       "</style>\n",
       "<table border=\"1\" class=\"dataframe\">\n",
       "  <thead>\n",
       "    <tr style=\"text-align: right;\">\n",
       "      <th></th>\n",
       "      <th>user_id</th>\n",
       "      <th>user_created_at</th>\n",
       "      <th>app_id</th>\n",
       "      <th>app_type</th>\n",
       "      <th>app_created_at</th>\n",
       "      <th>subscription_id</th>\n",
       "      <th>subscription_created_at</th>\n",
       "      <th>subscription_downgraded_at</th>\n",
       "    </tr>\n",
       "  </thead>\n",
       "  <tbody>\n",
       "    <tr>\n",
       "      <th>98826</th>\n",
       "      <td>5431059</td>\n",
       "      <td>2021-03-25 19:30:59.622</td>\n",
       "      <td>28195200</td>\n",
       "      <td>comments</td>\n",
       "      <td>2021-03-25 19:30:47.082</td>\n",
       "      <td>NaN</td>\n",
       "      <td>NaT</td>\n",
       "      <td>NaT</td>\n",
       "    </tr>\n",
       "    <tr>\n",
       "      <th>98827</th>\n",
       "      <td>5390836</td>\n",
       "      <td>2021-03-02 19:23:40.128</td>\n",
       "      <td>27978485</td>\n",
       "      <td>formBuilder</td>\n",
       "      <td>2021-03-06 00:09:55.156</td>\n",
       "      <td>NaN</td>\n",
       "      <td>NaT</td>\n",
       "      <td>NaT</td>\n",
       "    </tr>\n",
       "    <tr>\n",
       "      <th>98828</th>\n",
       "      <td>5435017</td>\n",
       "      <td>2021-03-28 17:17:36.897</td>\n",
       "      <td>28220958</td>\n",
       "      <td>mediaGallery</td>\n",
       "      <td>2021-03-28 17:20:36.385</td>\n",
       "      <td>NaN</td>\n",
       "      <td>NaT</td>\n",
       "      <td>NaT</td>\n",
       "    </tr>\n",
       "    <tr>\n",
       "      <th>98829</th>\n",
       "      <td>5388447</td>\n",
       "      <td>2021-03-01 16:03:58.419</td>\n",
       "      <td>27914004</td>\n",
       "      <td>hitCounter</td>\n",
       "      <td>2021-03-01 16:21:45.117</td>\n",
       "      <td>NaN</td>\n",
       "      <td>NaT</td>\n",
       "      <td>NaT</td>\n",
       "    </tr>\n",
       "    <tr>\n",
       "      <th>98830</th>\n",
       "      <td>5388447</td>\n",
       "      <td>2021-03-01 16:03:58.419</td>\n",
       "      <td>27914723</td>\n",
       "      <td>countdownTimer</td>\n",
       "      <td>2021-03-01 17:24:50.565</td>\n",
       "      <td>NaN</td>\n",
       "      <td>NaT</td>\n",
       "      <td>NaT</td>\n",
       "    </tr>\n",
       "  </tbody>\n",
       "</table>\n",
       "</div>"
      ],
      "text/plain": [
       "       user_id         user_created_at    app_id        app_type  \\\n",
       "98826  5431059 2021-03-25 19:30:59.622  28195200        comments   \n",
       "98827  5390836 2021-03-02 19:23:40.128  27978485     formBuilder   \n",
       "98828  5435017 2021-03-28 17:17:36.897  28220958    mediaGallery   \n",
       "98829  5388447 2021-03-01 16:03:58.419  27914004      hitCounter   \n",
       "98830  5388447 2021-03-01 16:03:58.419  27914723  countdownTimer   \n",
       "\n",
       "               app_created_at  subscription_id subscription_created_at  \\\n",
       "98826 2021-03-25 19:30:47.082              NaN                     NaT   \n",
       "98827 2021-03-06 00:09:55.156              NaN                     NaT   \n",
       "98828 2021-03-28 17:20:36.385              NaN                     NaT   \n",
       "98829 2021-03-01 16:21:45.117              NaN                     NaT   \n",
       "98830 2021-03-01 17:24:50.565              NaN                     NaT   \n",
       "\n",
       "      subscription_downgraded_at  \n",
       "98826                        NaT  \n",
       "98827                        NaT  \n",
       "98828                        NaT  \n",
       "98829                        NaT  \n",
       "98830                        NaT  "
      ]
     },
     "execution_count": 4,
     "metadata": {},
     "output_type": "execute_result"
    }
   ],
   "source": [
    "df.tail()"
   ]
  },
  {
   "cell_type": "code",
   "execution_count": 5,
   "metadata": {},
   "outputs": [
    {
     "data": {
      "text/html": [
       "<div>\n",
       "<style scoped>\n",
       "    .dataframe tbody tr th:only-of-type {\n",
       "        vertical-align: middle;\n",
       "    }\n",
       "\n",
       "    .dataframe tbody tr th {\n",
       "        vertical-align: top;\n",
       "    }\n",
       "\n",
       "    .dataframe thead th {\n",
       "        text-align: right;\n",
       "    }\n",
       "</style>\n",
       "<table border=\"1\" class=\"dataframe\">\n",
       "  <thead>\n",
       "    <tr style=\"text-align: right;\">\n",
       "      <th></th>\n",
       "      <th>user_id</th>\n",
       "      <th>user_created_at</th>\n",
       "      <th>app_id</th>\n",
       "      <th>app_type</th>\n",
       "      <th>app_created_at</th>\n",
       "      <th>subscription_id</th>\n",
       "      <th>subscription_created_at</th>\n",
       "      <th>subscription_downgraded_at</th>\n",
       "    </tr>\n",
       "  </thead>\n",
       "  <tbody>\n",
       "    <tr>\n",
       "      <th>5103</th>\n",
       "      <td>5422117</td>\n",
       "      <td>2021-03-20 16:52:24.147</td>\n",
       "      <td>28139383</td>\n",
       "      <td>photoEditor</td>\n",
       "      <td>2021-03-20 16:52:16.944</td>\n",
       "      <td>NaN</td>\n",
       "      <td>NaT</td>\n",
       "      <td>NaT</td>\n",
       "    </tr>\n",
       "    <tr>\n",
       "      <th>44817</th>\n",
       "      <td>5430209</td>\n",
       "      <td>2021-03-25 11:10:57.754</td>\n",
       "      <td>28244883</td>\n",
       "      <td>formBuilder</td>\n",
       "      <td>2021-03-31 00:32:36.570</td>\n",
       "      <td>107408.0</td>\n",
       "      <td>2021-03-31 00:03:12.497</td>\n",
       "      <td>2021-05-01 10:01:30.080</td>\n",
       "    </tr>\n",
       "    <tr>\n",
       "      <th>78881</th>\n",
       "      <td>5396476</td>\n",
       "      <td>2021-03-05 18:17:50.904</td>\n",
       "      <td>27975159</td>\n",
       "      <td>multiSlider</td>\n",
       "      <td>2021-03-05 18:17:40.066</td>\n",
       "      <td>NaN</td>\n",
       "      <td>NaT</td>\n",
       "      <td>NaT</td>\n",
       "    </tr>\n",
       "    <tr>\n",
       "      <th>10523</th>\n",
       "      <td>5403715</td>\n",
       "      <td>2021-03-10 00:24:31.236</td>\n",
       "      <td>28022463</td>\n",
       "      <td>map</td>\n",
       "      <td>2021-03-10 00:28:29.275</td>\n",
       "      <td>106064.0</td>\n",
       "      <td>2021-03-12 00:54:23.233</td>\n",
       "      <td>NaT</td>\n",
       "    </tr>\n",
       "    <tr>\n",
       "      <th>83479</th>\n",
       "      <td>5392196</td>\n",
       "      <td>2021-03-03 14:26:18.868</td>\n",
       "      <td>27937686</td>\n",
       "      <td>pdfEmbed</td>\n",
       "      <td>2021-03-03 14:25:50.768</td>\n",
       "      <td>NaN</td>\n",
       "      <td>NaT</td>\n",
       "      <td>NaT</td>\n",
       "    </tr>\n",
       "    <tr>\n",
       "      <th>22044</th>\n",
       "      <td>5393103</td>\n",
       "      <td>2021-03-03 22:23:14.284</td>\n",
       "      <td>27943133</td>\n",
       "      <td>survey</td>\n",
       "      <td>2021-03-03 22:41:11.180</td>\n",
       "      <td>NaN</td>\n",
       "      <td>NaT</td>\n",
       "      <td>NaT</td>\n",
       "    </tr>\n",
       "    <tr>\n",
       "      <th>35902</th>\n",
       "      <td>5440411</td>\n",
       "      <td>2021-03-31 19:41:47.604</td>\n",
       "      <td>28253784</td>\n",
       "      <td>socialFeed</td>\n",
       "      <td>2021-03-31 19:42:55.353</td>\n",
       "      <td>NaN</td>\n",
       "      <td>NaT</td>\n",
       "      <td>NaT</td>\n",
       "    </tr>\n",
       "    <tr>\n",
       "      <th>90492</th>\n",
       "      <td>5400523</td>\n",
       "      <td>2021-03-08 12:49:56.204</td>\n",
       "      <td>28007265</td>\n",
       "      <td>paypalButton</td>\n",
       "      <td>2021-03-08 18:58:04.440</td>\n",
       "      <td>NaN</td>\n",
       "      <td>NaT</td>\n",
       "      <td>NaT</td>\n",
       "    </tr>\n",
       "    <tr>\n",
       "      <th>5798</th>\n",
       "      <td>5424208</td>\n",
       "      <td>2021-03-22 05:16:49.649</td>\n",
       "      <td>28153935</td>\n",
       "      <td>formBuilder</td>\n",
       "      <td>2021-03-22 05:20:10.103</td>\n",
       "      <td>NaN</td>\n",
       "      <td>NaT</td>\n",
       "      <td>NaT</td>\n",
       "    </tr>\n",
       "    <tr>\n",
       "      <th>12243</th>\n",
       "      <td>5401623</td>\n",
       "      <td>2021-03-08 23:28:58.521</td>\n",
       "      <td>28009862</td>\n",
       "      <td>socialFeed</td>\n",
       "      <td>2021-03-08 23:28:52.472</td>\n",
       "      <td>NaN</td>\n",
       "      <td>NaT</td>\n",
       "      <td>NaT</td>\n",
       "    </tr>\n",
       "  </tbody>\n",
       "</table>\n",
       "</div>"
      ],
      "text/plain": [
       "       user_id         user_created_at    app_id      app_type  \\\n",
       "5103   5422117 2021-03-20 16:52:24.147  28139383   photoEditor   \n",
       "44817  5430209 2021-03-25 11:10:57.754  28244883   formBuilder   \n",
       "78881  5396476 2021-03-05 18:17:50.904  27975159   multiSlider   \n",
       "10523  5403715 2021-03-10 00:24:31.236  28022463           map   \n",
       "83479  5392196 2021-03-03 14:26:18.868  27937686      pdfEmbed   \n",
       "22044  5393103 2021-03-03 22:23:14.284  27943133        survey   \n",
       "35902  5440411 2021-03-31 19:41:47.604  28253784    socialFeed   \n",
       "90492  5400523 2021-03-08 12:49:56.204  28007265  paypalButton   \n",
       "5798   5424208 2021-03-22 05:16:49.649  28153935   formBuilder   \n",
       "12243  5401623 2021-03-08 23:28:58.521  28009862    socialFeed   \n",
       "\n",
       "               app_created_at  subscription_id subscription_created_at  \\\n",
       "5103  2021-03-20 16:52:16.944              NaN                     NaT   \n",
       "44817 2021-03-31 00:32:36.570         107408.0 2021-03-31 00:03:12.497   \n",
       "78881 2021-03-05 18:17:40.066              NaN                     NaT   \n",
       "10523 2021-03-10 00:28:29.275         106064.0 2021-03-12 00:54:23.233   \n",
       "83479 2021-03-03 14:25:50.768              NaN                     NaT   \n",
       "22044 2021-03-03 22:41:11.180              NaN                     NaT   \n",
       "35902 2021-03-31 19:42:55.353              NaN                     NaT   \n",
       "90492 2021-03-08 18:58:04.440              NaN                     NaT   \n",
       "5798  2021-03-22 05:20:10.103              NaN                     NaT   \n",
       "12243 2021-03-08 23:28:52.472              NaN                     NaT   \n",
       "\n",
       "      subscription_downgraded_at  \n",
       "5103                         NaT  \n",
       "44817    2021-05-01 10:01:30.080  \n",
       "78881                        NaT  \n",
       "10523                        NaT  \n",
       "83479                        NaT  \n",
       "22044                        NaT  \n",
       "35902                        NaT  \n",
       "90492                        NaT  \n",
       "5798                         NaT  \n",
       "12243                        NaT  "
      ]
     },
     "execution_count": 5,
     "metadata": {},
     "output_type": "execute_result"
    }
   ],
   "source": [
    "df.sample(10)"
   ]
  },
  {
   "cell_type": "code",
   "execution_count": 6,
   "metadata": {},
   "outputs": [
    {
     "data": {
      "text/plain": [
       "(98831, 8)"
      ]
     },
     "execution_count": 6,
     "metadata": {},
     "output_type": "execute_result"
    }
   ],
   "source": [
    "# total number of rows and columns\n",
    "df.shape"
   ]
  },
  {
   "cell_type": "code",
   "execution_count": 7,
   "metadata": {},
   "outputs": [
    {
     "data": {
      "text/plain": [
       "Index(['user_id', 'user_created_at', 'app_id', 'app_type', 'app_created_at',\n",
       "       'subscription_id', 'subscription_created_at',\n",
       "       'subscription_downgraded_at'],\n",
       "      dtype='object')"
      ]
     },
     "execution_count": 7,
     "metadata": {},
     "output_type": "execute_result"
    }
   ],
   "source": [
    "df.columns"
   ]
  },
  {
   "cell_type": "code",
   "execution_count": 8,
   "metadata": {},
   "outputs": [
    {
     "data": {
      "text/html": [
       "<div>\n",
       "<style scoped>\n",
       "    .dataframe tbody tr th:only-of-type {\n",
       "        vertical-align: middle;\n",
       "    }\n",
       "\n",
       "    .dataframe tbody tr th {\n",
       "        vertical-align: top;\n",
       "    }\n",
       "\n",
       "    .dataframe thead th {\n",
       "        text-align: right;\n",
       "    }\n",
       "</style>\n",
       "<table border=\"1\" class=\"dataframe\">\n",
       "  <thead>\n",
       "    <tr style=\"text-align: right;\">\n",
       "      <th></th>\n",
       "      <th>user_id</th>\n",
       "      <th>app_id</th>\n",
       "      <th>subscription_id</th>\n",
       "    </tr>\n",
       "  </thead>\n",
       "  <tbody>\n",
       "    <tr>\n",
       "      <th>count</th>\n",
       "      <td>9.883100e+04</td>\n",
       "      <td>9.883100e+04</td>\n",
       "      <td>7890.000000</td>\n",
       "    </tr>\n",
       "    <tr>\n",
       "      <th>mean</th>\n",
       "      <td>5.413580e+06</td>\n",
       "      <td>2.809206e+07</td>\n",
       "      <td>106589.270089</td>\n",
       "    </tr>\n",
       "    <tr>\n",
       "      <th>std</th>\n",
       "      <td>1.520537e+04</td>\n",
       "      <td>9.858352e+04</td>\n",
       "      <td>835.692881</td>\n",
       "    </tr>\n",
       "    <tr>\n",
       "      <th>min</th>\n",
       "      <td>5.387366e+06</td>\n",
       "      <td>2.790638e+07</td>\n",
       "      <td>100169.000000</td>\n",
       "    </tr>\n",
       "    <tr>\n",
       "      <th>25%</th>\n",
       "      <td>5.400340e+06</td>\n",
       "      <td>2.801206e+07</td>\n",
       "      <td>105994.500000</td>\n",
       "    </tr>\n",
       "    <tr>\n",
       "      <th>50%</th>\n",
       "      <td>5.413693e+06</td>\n",
       "      <td>2.809632e+07</td>\n",
       "      <td>106776.000000</td>\n",
       "    </tr>\n",
       "    <tr>\n",
       "      <th>75%</th>\n",
       "      <td>5.426152e+06</td>\n",
       "      <td>2.817588e+07</td>\n",
       "      <td>106921.000000</td>\n",
       "    </tr>\n",
       "    <tr>\n",
       "      <th>max</th>\n",
       "      <td>5.440805e+06</td>\n",
       "      <td>2.825570e+07</td>\n",
       "      <td>109501.000000</td>\n",
       "    </tr>\n",
       "  </tbody>\n",
       "</table>\n",
       "</div>"
      ],
      "text/plain": [
       "            user_id        app_id  subscription_id\n",
       "count  9.883100e+04  9.883100e+04      7890.000000\n",
       "mean   5.413580e+06  2.809206e+07    106589.270089\n",
       "std    1.520537e+04  9.858352e+04       835.692881\n",
       "min    5.387366e+06  2.790638e+07    100169.000000\n",
       "25%    5.400340e+06  2.801206e+07    105994.500000\n",
       "50%    5.413693e+06  2.809632e+07    106776.000000\n",
       "75%    5.426152e+06  2.817588e+07    106921.000000\n",
       "max    5.440805e+06  2.825570e+07    109501.000000"
      ]
     },
     "execution_count": 8,
     "metadata": {},
     "output_type": "execute_result"
    }
   ],
   "source": [
    "df.describe()"
   ]
  },
  {
   "cell_type": "code",
   "execution_count": 9,
   "metadata": {},
   "outputs": [
    {
     "data": {
      "text/plain": [
       "user_id                       49585\n",
       "user_created_at               49584\n",
       "app_id                        95292\n",
       "app_type                        198\n",
       "app_created_at                95328\n",
       "subscription_id                1413\n",
       "subscription_created_at        1413\n",
       "subscription_downgraded_at      334\n",
       "dtype: int64"
      ]
     },
     "execution_count": 9,
     "metadata": {},
     "output_type": "execute_result"
    }
   ],
   "source": [
    "df.nunique()"
   ]
  },
  {
   "cell_type": "code",
   "execution_count": 10,
   "metadata": {},
   "outputs": [
    {
     "data": {
      "text/plain": [
       "array(['fileEmbed', 'musicPlayer', 'fileDownloadForm', 'hitCounter',\n",
       "       'comments', 'poll', 'customOrderForm', 'socialFeed', 'popup',\n",
       "       'multiSlider', 'formBuilder', 'imageSlider', 'socialMediaIcons',\n",
       "       'countdownTimer', 'instagramFeed', 'mailchimpEmailSignup',\n",
       "       'paypalButton', 'recurringPayment', 'pdfEmbed', 'contactForm',\n",
       "       'map', 'modalPopup', 'graph', 'wholesaleForm', 'mediaGallery',\n",
       "       'faq', 'weather', 'paymentButton', 'survey', 'jobBoard', 'resume',\n",
       "       'popupNotification', 'priceTable', 'chat', 'facebookChat',\n",
       "       'reviews', 'zoomPopUp', 'mailingList', 'booking',\n",
       "       'testimonialSlider', 'photoGallery', 'ecommerce', 'zoomForm',\n",
       "       'planComparison', 'powerpointEmbed', 'imageCarousel', 'microblog',\n",
       "       'videoSlider', 'scrollToTop', 'facebookStream', 'stripeButton',\n",
       "       'photoEditor', 'subscriptionPayment', 'onlineStore',\n",
       "       'accordionFaq', 'zoomDonationButton', 'videoGallery', 'tabs',\n",
       "       'jobPostings', 'rssFeed', 'aboutUs', 'starRating',\n",
       "       'exitIntentPopup', 'countUpTimer', 'applicationForm',\n",
       "       'requestAQuote', 'emailPopup', 'discountNotificationBar',\n",
       "       'feedbackForm', 'facebookFeed', 'spinWheel', 'orderForm',\n",
       "       'fullScreenPopup', 'button', 'donationButton', 'paymentForm',\n",
       "       'socialMediaButtons', 'eventRegistrationPopup',\n",
       "       'customerSatisfactionSurvey', 'leadCaptureForm', 'promotionPopup',\n",
       "       'jobApplicationForm', 'invoiceForm', 'twitterFeed', 'stripeForm',\n",
       "       'photoFilter', 'youtubeGallery', 'menu', 'registrationForm',\n",
       "       'popupMaker', 'birthdayCountdown', 'digitalDownload',\n",
       "       'imageGallery', 'photoWatermark', 'storeLocator', 'eventGallery',\n",
       "       'vimeoGallery', 'subscriptionForm', 'contestEntryForm', 'easyPoll',\n",
       "       'notificationBar', 'signUpForm', 'chatBox', 'multiCurrencyButton',\n",
       "       'salesPop', 'subscriptionSignupForm', 'captchaForm',\n",
       "       'socialStream', 'exitPopup', 'commentsBox', 'notificationBanner',\n",
       "       'tumblrFeed', 'subscriptionSignupPopup', 'mailchimpForm',\n",
       "       'emailListSignup', 'paypalPaymentForm', 'membershipOptions',\n",
       "       'forum', 'spinToWin', 'donationForm', 'eventSlider',\n",
       "       'bannerSlider', 'membershipForm', 'videoSlideshow', 'slideshow',\n",
       "       'salePromotionBar', 'donationPopup', 'requestAQuoteForm',\n",
       "       'countdownClock', 'onclickPopup', 'subscriptionButton', 'bookNow',\n",
       "       'weddingRsvp', 'holidayCountdown', 'pinterestFeed', 'videoBanner',\n",
       "       'flickrGallery', 'imageResizer', 'evaluationForm',\n",
       "       'productCarousel', 'shopifyForm', 'contactQuoteForm',\n",
       "       'ebookDownloadForm', 'fileUploadForm', 'socialMediaStream',\n",
       "       'eventRegistrationForm', 'eform', 'carousel', 'weddingInvitation',\n",
       "       'npsSurvey', 'rsvpForm', 'bookingForm', 'newsletterForm',\n",
       "       'newsletterSignUpPopup', 'emailForm', 'returnsPolicyFaq',\n",
       "       'fundraisingForm', 'salesPopup', 'faqPage', 'visitorCounter',\n",
       "       'onlineRegistrationForm', 'ecommerceCart', 'imageEditor',\n",
       "       'newsletterSignUp', 'socialMediaFeed', 'brandAmbassadorForm',\n",
       "       'paypalDonateButton', 'liveChat', 'quoteForm', 'messengerChat',\n",
       "       'frequentlyAskedQuestions', 'couponBox', 'couponPopup',\n",
       "       'testimonialGallery', 'lookbook', 'counter', 'countdownBar',\n",
       "       'eventRegistration', 'discountPopup', 'instagram', 'splashPopup',\n",
       "       'overlayPopup', 'blackFridayCountdownTimer',\n",
       "       'buzzingYellowPaypalButton', 'productTabs', 'surveyPopup',\n",
       "       'countdownCart', 'socialGallery', 'wixDev', 'paypalForm',\n",
       "       'onlineForm', 'salesCountdown', 'linkInBio', 'reviewForm',\n",
       "       'productSlider', 'sizeChartTabs', 'creditCardPaymentForm',\n",
       "       'blogComments'], dtype=object)"
      ]
     },
     "execution_count": 10,
     "metadata": {},
     "output_type": "execute_result"
    }
   ],
   "source": [
    "df['app_type'].unique()"
   ]
  },
  {
   "cell_type": "markdown",
   "metadata": {},
   "source": [
    "#### Data Cleaning"
   ]
  },
  {
   "cell_type": "code",
   "execution_count": 11,
   "metadata": {},
   "outputs": [
    {
     "data": {
      "text/html": [
       "<div>\n",
       "<style scoped>\n",
       "    .dataframe tbody tr th:only-of-type {\n",
       "        vertical-align: middle;\n",
       "    }\n",
       "\n",
       "    .dataframe tbody tr th {\n",
       "        vertical-align: top;\n",
       "    }\n",
       "\n",
       "    .dataframe thead th {\n",
       "        text-align: right;\n",
       "    }\n",
       "</style>\n",
       "<table border=\"1\" class=\"dataframe\">\n",
       "  <thead>\n",
       "    <tr style=\"text-align: right;\">\n",
       "      <th></th>\n",
       "      <th>user_id</th>\n",
       "      <th>user_created_at</th>\n",
       "      <th>app_id</th>\n",
       "      <th>app_type</th>\n",
       "      <th>app_created_at</th>\n",
       "    </tr>\n",
       "  </thead>\n",
       "  <tbody>\n",
       "    <tr>\n",
       "      <th>0</th>\n",
       "      <td>5390480</td>\n",
       "      <td>2021-03-02 16:19:36.699</td>\n",
       "      <td>27926869</td>\n",
       "      <td>fileEmbed</td>\n",
       "      <td>2021-03-02 16:20:24.513</td>\n",
       "    </tr>\n",
       "    <tr>\n",
       "      <th>1</th>\n",
       "      <td>5390549</td>\n",
       "      <td>2021-03-02 16:49:31.439</td>\n",
       "      <td>27927190</td>\n",
       "      <td>musicPlayer</td>\n",
       "      <td>2021-03-02 16:49:33.719</td>\n",
       "    </tr>\n",
       "    <tr>\n",
       "      <th>2</th>\n",
       "      <td>5390446</td>\n",
       "      <td>2021-03-02 15:59:53.346</td>\n",
       "      <td>27926836</td>\n",
       "      <td>fileDownloadForm</td>\n",
       "      <td>2021-03-02 16:18:55.969</td>\n",
       "    </tr>\n",
       "    <tr>\n",
       "      <th>3</th>\n",
       "      <td>5394851</td>\n",
       "      <td>2021-03-04 20:44:32.155</td>\n",
       "      <td>27961262</td>\n",
       "      <td>hitCounter</td>\n",
       "      <td>2021-03-04 20:44:19.427</td>\n",
       "    </tr>\n",
       "    <tr>\n",
       "      <th>4</th>\n",
       "      <td>5392474</td>\n",
       "      <td>2021-03-03 16:51:28.862</td>\n",
       "      <td>27939220</td>\n",
       "      <td>comments</td>\n",
       "      <td>2021-03-03 16:52:15.329</td>\n",
       "    </tr>\n",
       "  </tbody>\n",
       "</table>\n",
       "</div>"
      ],
      "text/plain": [
       "   user_id         user_created_at    app_id          app_type  \\\n",
       "0  5390480 2021-03-02 16:19:36.699  27926869         fileEmbed   \n",
       "1  5390549 2021-03-02 16:49:31.439  27927190       musicPlayer   \n",
       "2  5390446 2021-03-02 15:59:53.346  27926836  fileDownloadForm   \n",
       "3  5394851 2021-03-04 20:44:32.155  27961262        hitCounter   \n",
       "4  5392474 2021-03-03 16:51:28.862  27939220          comments   \n",
       "\n",
       "           app_created_at  \n",
       "0 2021-03-02 16:20:24.513  \n",
       "1 2021-03-02 16:49:33.719  \n",
       "2 2021-03-02 16:18:55.969  \n",
       "3 2021-03-04 20:44:19.427  \n",
       "4 2021-03-03 16:52:15.329  "
      ]
     },
     "execution_count": 11,
     "metadata": {},
     "output_type": "execute_result"
    }
   ],
   "source": [
    "df = df.drop(['subscription_id', 'subscription_created_at', 'subscription_downgraded_at'], axis=1)\n",
    "df.head(5)"
   ]
  },
  {
   "cell_type": "code",
   "execution_count": 12,
   "metadata": {},
   "outputs": [
    {
     "data": {
      "text/plain": [
       "(98831, 5)"
      ]
     },
     "execution_count": 12,
     "metadata": {},
     "output_type": "execute_result"
    }
   ],
   "source": [
    "df.shape"
   ]
  },
  {
   "cell_type": "code",
   "execution_count": 13,
   "metadata": {},
   "outputs": [
    {
     "data": {
      "text/plain": [
       "user_id            0\n",
       "user_created_at    0\n",
       "app_id             0\n",
       "app_type           0\n",
       "app_created_at     0\n",
       "dtype: int64"
      ]
     },
     "execution_count": 13,
     "metadata": {},
     "output_type": "execute_result"
    }
   ],
   "source": [
    "df.isnull().sum()"
   ]
  },
  {
   "cell_type": "code",
   "execution_count": 14,
   "metadata": {},
   "outputs": [
    {
     "name": "stdout",
     "output_type": "stream",
     "text": [
      "number of duplicate rows:  (3168, 5)\n"
     ]
    }
   ],
   "source": [
    "duplicate_rows_df = df[df.duplicated()]\n",
    "print(\"number of duplicate rows: \", duplicate_rows_df.shape)"
   ]
  },
  {
   "cell_type": "code",
   "execution_count": 15,
   "metadata": {},
   "outputs": [
    {
     "data": {
      "text/plain": [
       "user_id            98831\n",
       "user_created_at    98831\n",
       "app_id             98831\n",
       "app_type           98831\n",
       "app_created_at     98831\n",
       "dtype: int64"
      ]
     },
     "execution_count": 15,
     "metadata": {},
     "output_type": "execute_result"
    }
   ],
   "source": [
    "df.count()"
   ]
  },
  {
   "cell_type": "code",
   "execution_count": 16,
   "metadata": {},
   "outputs": [
    {
     "data": {
      "text/html": [
       "<div>\n",
       "<style scoped>\n",
       "    .dataframe tbody tr th:only-of-type {\n",
       "        vertical-align: middle;\n",
       "    }\n",
       "\n",
       "    .dataframe tbody tr th {\n",
       "        vertical-align: top;\n",
       "    }\n",
       "\n",
       "    .dataframe thead th {\n",
       "        text-align: right;\n",
       "    }\n",
       "</style>\n",
       "<table border=\"1\" class=\"dataframe\">\n",
       "  <thead>\n",
       "    <tr style=\"text-align: right;\">\n",
       "      <th></th>\n",
       "      <th>user_id</th>\n",
       "      <th>user_created_at</th>\n",
       "      <th>app_id</th>\n",
       "      <th>app_type</th>\n",
       "      <th>app_created_at</th>\n",
       "    </tr>\n",
       "  </thead>\n",
       "  <tbody>\n",
       "    <tr>\n",
       "      <th>0</th>\n",
       "      <td>5390480</td>\n",
       "      <td>2021-03-02 16:19:36.699</td>\n",
       "      <td>27926869</td>\n",
       "      <td>fileEmbed</td>\n",
       "      <td>2021-03-02 16:20:24.513</td>\n",
       "    </tr>\n",
       "    <tr>\n",
       "      <th>1</th>\n",
       "      <td>5390549</td>\n",
       "      <td>2021-03-02 16:49:31.439</td>\n",
       "      <td>27927190</td>\n",
       "      <td>musicPlayer</td>\n",
       "      <td>2021-03-02 16:49:33.719</td>\n",
       "    </tr>\n",
       "    <tr>\n",
       "      <th>2</th>\n",
       "      <td>5390446</td>\n",
       "      <td>2021-03-02 15:59:53.346</td>\n",
       "      <td>27926836</td>\n",
       "      <td>fileDownloadForm</td>\n",
       "      <td>2021-03-02 16:18:55.969</td>\n",
       "    </tr>\n",
       "    <tr>\n",
       "      <th>3</th>\n",
       "      <td>5394851</td>\n",
       "      <td>2021-03-04 20:44:32.155</td>\n",
       "      <td>27961262</td>\n",
       "      <td>hitCounter</td>\n",
       "      <td>2021-03-04 20:44:19.427</td>\n",
       "    </tr>\n",
       "    <tr>\n",
       "      <th>4</th>\n",
       "      <td>5392474</td>\n",
       "      <td>2021-03-03 16:51:28.862</td>\n",
       "      <td>27939220</td>\n",
       "      <td>comments</td>\n",
       "      <td>2021-03-03 16:52:15.329</td>\n",
       "    </tr>\n",
       "  </tbody>\n",
       "</table>\n",
       "</div>"
      ],
      "text/plain": [
       "   user_id         user_created_at    app_id          app_type  \\\n",
       "0  5390480 2021-03-02 16:19:36.699  27926869         fileEmbed   \n",
       "1  5390549 2021-03-02 16:49:31.439  27927190       musicPlayer   \n",
       "2  5390446 2021-03-02 15:59:53.346  27926836  fileDownloadForm   \n",
       "3  5394851 2021-03-04 20:44:32.155  27961262        hitCounter   \n",
       "4  5392474 2021-03-03 16:51:28.862  27939220          comments   \n",
       "\n",
       "           app_created_at  \n",
       "0 2021-03-02 16:20:24.513  \n",
       "1 2021-03-02 16:49:33.719  \n",
       "2 2021-03-02 16:18:55.969  \n",
       "3 2021-03-04 20:44:19.427  \n",
       "4 2021-03-03 16:52:15.329  "
      ]
     },
     "execution_count": 16,
     "metadata": {},
     "output_type": "execute_result"
    }
   ],
   "source": [
    "# Dropping the duplicates \n",
    "df = df.drop_duplicates()\n",
    "df.head(5)"
   ]
  },
  {
   "cell_type": "code",
   "execution_count": 17,
   "metadata": {},
   "outputs": [
    {
     "data": {
      "text/plain": [
       "user_id            95663\n",
       "user_created_at    95663\n",
       "app_id             95663\n",
       "app_type           95663\n",
       "app_created_at     95663\n",
       "dtype: int64"
      ]
     },
     "execution_count": 17,
     "metadata": {},
     "output_type": "execute_result"
    }
   ],
   "source": [
    "df.count()"
   ]
  },
  {
   "cell_type": "code",
   "execution_count": 18,
   "metadata": {},
   "outputs": [
    {
     "data": {
      "image/png": "[encoded data removed]",
      "text/plain": [
       "<Figure size 720x360 with 1 Axes>"
      ]
     },
     "metadata": {
      "needs_background": "light"
     },
     "output_type": "display_data"
    }
   ],
   "source": [
    "# Plotting a Histogram\n",
    "df.app_type.value_counts().nlargest(40).plot(kind='bar', figsize=(10,5))\n",
    "plt.title(\"Number of users \")\n",
    "plt.ylabel('users')\n",
    "plt.xlabel('application type');"
   ]
  }
 ],
 "metadata": {
  "kernelspec": {
   "display_name": "Python 3",
   "language": "python",
   "name": "python3"
  },
  "language_info": {
   "codemirror_mode": {
    "name": "ipython",
    "version": 3
   },
   "file_extension": ".py",
   "mimetype": "text/x-python",
   "name": "python",
   "nbconvert_exporter": "python",
   "pygments_lexer": "ipython3",
   "version": "3.8.3"
  }
 },
 "nbformat": 4,
 "nbformat_minor": 4
}
